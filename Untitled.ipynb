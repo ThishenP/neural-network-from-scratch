{
 "cells": [
  {
   "cell_type": "markdown",
   "id": "contrary-natural",
   "metadata": {},
   "source": [
    "# ACML Assignment 2\n",
    "In this assignment a neural network is built from scratch and trained using backpropagation. The working of the neural network is then explored by experimenting with different activation functions and neural network architectures.\n",
    "\n",
    "## Neural Network Implemenation"
   ]
  },
  {
   "cell_type": "code",
   "execution_count": 69,
   "id": "impossible-hunger",
   "metadata": {},
   "outputs": [
    {
     "data": {
      "text/plain": [
       "<Figure size 432x288 with 0 Axes>"
      ]
     },
     "metadata": {},
     "output_type": "display_data"
    }
   ],
   "source": [
    "import pandas as pd\n",
    "import numpy as np\n",
    "import matplotlib.pyplot as plt\n",
    "plt.gray()"
   ]
  },
  {
   "cell_type": "code",
   "execution_count": 2,
   "id": "front-beads",
   "metadata": {},
   "outputs": [],
   "source": [
    "def add_row_ones(X):\n",
    "    return np.append(np.ones((1, X.shape[1])), X, axis=0)  # add column of 1s"
   ]
  },
  {
   "cell_type": "code",
   "execution_count": 3,
   "id": "hollywood-stylus",
   "metadata": {},
   "outputs": [],
   "source": [
    "def initialise_Thetas(layer_nums):\n",
    "\n",
    "    # layer_nums: list with the amount of units in each hidden layer (excluding bias)\n",
    "    # layer_nums includes input, hidden and output layers\n",
    "    # (layer corresponds to index)\n",
    "    Thetas = []\n",
    "    # randomly initialise Thetas\n",
    "    for i in range(1, len(layer_nums)):\n",
    "        random = np.random.rand(layer_nums[i], layer_nums[i-1]+1)\n",
    "        random = random * np.sqrt(2/(layer_nums[i-1]+1))\n",
    "        Thetas.append(random)\n",
    "\n",
    "    # the shape of Theta shows the NN architecture\n",
    "    return Thetas"
   ]
  },
  {
   "cell_type": "code",
   "execution_count": 4,
   "id": "induced-stupid",
   "metadata": {},
   "outputs": [],
   "source": [
    "def sigmoid(z):\n",
    "    return 1/(1+np.exp(-z))\n",
    "\n",
    "\n",
    "def d_sigmoid(z):\n",
    "    return (1-sigmoid(z))*(sigmoid(z))\n",
    "\n",
    "\n",
    "def linear(z):\n",
    "    return z\n",
    "\n",
    "\n",
    "def d_linear(z):\n",
    "    return 1\n",
    "\n",
    "\n",
    "def tanh(z):\n",
    "    return np.tanh(z)\n",
    "\n",
    "\n",
    "def d_tanh(z):\n",
    "    return (1-np.tanh(z)**2)\n",
    "\n",
    "\n",
    "def ReLU(z):\n",
    "    return np.maximum(0, z)\n",
    "\n",
    "\n",
    "def d_ReLU(z):\n",
    "    return np.maximum(0, z)/z\n",
    "\n",
    "\n",
    "a_func_derivatives = {sigmoid: d_sigmoid,\n",
    "                      linear: d_linear, tanh: d_tanh, ReLU: d_ReLU}"
   ]
  },
  {
   "cell_type": "code",
   "execution_count": 5,
   "id": "cognitive-elder",
   "metadata": {},
   "outputs": [],
   "source": [
    "def forward_prop(X, Thetas, a_func):\n",
    "    A_vals = [X]\n",
    "    Z_vals = [None]  # no Z_val for first layer\n",
    "\n",
    "    # feed forward using given activation function\n",
    "    for i in range(len(Thetas)-1):\n",
    "        A_vals[-1] = add_row_ones(A_vals[-1])\n",
    "        Z_vals.append(np.dot(Thetas[i], A_vals[-1]))\n",
    "        A_vals.append(a_func(Z_vals[-1]))\n",
    "\n",
    "    # using softmax regression for final layer\n",
    "    A_vals[-1] = add_row_ones(A_vals[-1])\n",
    "    Z_vals.append(np.dot(Thetas[-1], A_vals[-1]))\n",
    "    A_vals.append(softmax(Z_vals[-1]))\n",
    "\n",
    "    return Z_vals, A_vals"
   ]
  },
  {
   "cell_type": "code",
   "execution_count": 6,
   "id": "identified-biology",
   "metadata": {},
   "outputs": [],
   "source": [
    "def label_to_vector(y, number_of_classes):\n",
    "    y_new = np.zeros([number_of_classes, y.shape[0]])\n",
    "    s = 0\n",
    "    for i in range(len(y)):\n",
    "        y_new[y[i]][i] = 1\n",
    "    return y_new"
   ]
  },
  {
   "cell_type": "code",
   "execution_count": 7,
   "id": "manual-turning",
   "metadata": {},
   "outputs": [],
   "source": [
    "def cost(X, y, Thetas, a_func, lambd):\n",
    "    _, A_vals = forward_prop(X, Thetas, a_func)\n",
    "    h = A_vals[-1]\n",
    "    n = X.shape[1]\n",
    "    reg = 0\n",
    "    for i in range(len(Thetas)):\n",
    "        reg += sum(sum(Thetas[i][:, 1:]**2))\n",
    "    reg *= lambd\n",
    "    return (-1/n)*sum(sum((y*np.log(h)+(1-y)*np.log(1-h)))) + reg"
   ]
  },
  {
   "cell_type": "code",
   "execution_count": 8,
   "id": "banned-jenny",
   "metadata": {},
   "outputs": [],
   "source": [
    "def softmax(z):\n",
    "    e_z = np.exp(z-np.max(z))\n",
    "    return e_z/sum(e_z)"
   ]
  },
  {
   "cell_type": "code",
   "execution_count": 9,
   "id": "driven-display",
   "metadata": {},
   "outputs": [],
   "source": [
    "def back_prop(y, Z_vals, A_vals, Thetas, n, d_a_func, lambd):\n",
    "\n",
    "    deltas = [None]*(len(Thetas)+1)\n",
    "    grads = []\n",
    "    deltas[-1] = A_vals[-1]-y\n",
    "\n",
    "    for i in reversed(range(1, len(Thetas))):\n",
    "        dg = d_a_func(Z_vals[i])\n",
    "        deltas[i] = np.transpose(Thetas[i][:, 1:])@deltas[i+1]*dg\n",
    "\n",
    "    Ds = []\n",
    "    for i in range(len(Thetas)):\n",
    "        grads.append(deltas[i+1]@np.transpose(A_vals[i]))\n",
    "        D = (1/n)*grads[i]\n",
    "        # regularization (excluding bias)\n",
    "        D[:, 1:] = D[:, 1:] + lambd*Thetas[i][:, 1:]\n",
    "        Ds.append(D)\n",
    "\n",
    "    return Ds"
   ]
  },
  {
   "cell_type": "code",
   "execution_count": 10,
   "id": "opening-comparison",
   "metadata": {},
   "outputs": [],
   "source": [
    "def percentage_accuracy(y, h):\n",
    "    right = 0\n",
    "    for i in range(h.shape[1]):\n",
    "        if y[np.where(h[:, i] == max(h[:, i])), i] == 1:\n",
    "            right = right+1\n",
    "    return (right/h.shape[1])*100"
   ]
  },
  {
   "cell_type": "code",
   "execution_count": 61,
   "id": "southwest-remainder",
   "metadata": {},
   "outputs": [],
   "source": [
    "def show_results(X_train, y_train, X_test, y_test, Thetas, a_func, costs):\n",
    "    plt.plot(costs)\n",
    "    print('final cost: ', costs[-1])\n",
    "    \n",
    "    Z_vals, A_vals = forward_prop(X_train, Thetas, a_func)\n",
    "    p_acc_train = percentage_accuracy(y_train, A_vals[-1])\n",
    "    print(\"training set percentage accuracy = \",\n",
    "          p_acc_train, '%')\n",
    "\n",
    "    Z_vals, A_vals = forward_prop(X_test, Thetas, a_func)\n",
    "    p_acc_test = percentage_accuracy(y_test, A_vals[-1])\n",
    "    print(\"test set percentage accuracy = \",\n",
    "          p_acc_test, '%')\n",
    "\n",
    "    \n",
    "    return p_acc_train,p_acc_test"
   ]
  },
  {
   "cell_type": "code",
   "execution_count": 12,
   "id": "absolute-chance",
   "metadata": {},
   "outputs": [],
   "source": [
    "#read in data\n",
    "df_train = pd.read_csv('mnist_train.csv',\n",
    "                       sep=r'\\s*,\\s*', engine='python')\n",
    "df_test = pd.read_csv('mnist_test.csv',\n",
    "                      sep=r'\\s*,\\s*', engine='python')"
   ]
  },
  {
   "cell_type": "code",
   "execution_count": 13,
   "id": "reduced-aurora",
   "metadata": {},
   "outputs": [],
   "source": [
    "# data handling\n",
    "\n",
    "# n=df_train.shape[0] #number of training examples\n",
    "d = df_train.shape[1]  # number of features\n",
    "num_classes = 10\n",
    "\n",
    "# create numpy matrices\n",
    "X_train = np.transpose(df_train.drop('label', axis=1).to_numpy())[:, :2500]\n",
    "X_test = np.transpose(df_test.drop('label', axis=1).to_numpy())\n",
    "\n",
    "X_train = X_train/255\n",
    "X_test = X_test/255\n",
    "\n",
    "y_train_label = np.transpose(df_train['label'].to_numpy())[:2500]\n",
    "y_test_label = np.transpose(df_test['label'].to_numpy())\n",
    "y_train = label_to_vector(y_train_label, num_classes)\n",
    "y_test = label_to_vector(y_test_label, num_classes)"
   ]
  },
  {
   "cell_type": "code",
   "execution_count": 14,
   "id": "radical-commodity",
   "metadata": {},
   "outputs": [],
   "source": [
    "def train_nn(NN_architecture, X_train, y_train, a_func, max_iter, lr ,lambd):\n",
    "    costs = []\n",
    "    # initialising Theta based on given neural network architecture\n",
    "    Thetas = initialise_Thetas(NN_architecture)\n",
    "    # derivative of the given activation function\n",
    "    d_a_func = a_func_derivatives[a_func]\n",
    "\n",
    "    for i in range(max_iter):\n",
    "        # loading bar for training. complete after a maximum of 100 dots\n",
    "        if i % int(max_iter/100) == 0:\n",
    "            print('.', end=\"\")\n",
    "\n",
    "        # forward propogation\n",
    "        Z_vals, A_vals = forward_prop(X_train, Thetas, a_func)\n",
    "\n",
    "        # storing all costs for plot\n",
    "        costs.append(cost(X_train, y_train, Thetas, a_func, lambd))\n",
    "\n",
    "        # back propogation\n",
    "        D = back_prop(y_train, Z_vals, A_vals, Thetas,\n",
    "                      X_train.shape[1], d_a_func, lambd)\n",
    "\n",
    "        # updating Thetas\n",
    "        for i in range(len(Thetas)):\n",
    "            Thetas[i] = Thetas[i] - lr*D[i]\n",
    "    print()  # to end line\n",
    "    return Thetas, costs"
   ]
  },
  {
   "cell_type": "markdown",
   "id": "czech-spare",
   "metadata": {},
   "source": [
    "## Exploring Activation Functions\n",
    "In this section neural networks are trained with different activation functions and compared. The network architecture that worked best (found in the 'Exploring NN architectures' section below) is a network that contains a single hidden layer of 25 units. This architecture will be used for all experiments in this section.\n",
    "### Sigmoid\n",
    "A sigmoid activation function is used as a base below and  returns a high accuracy of around 97% for the training set and 90% for the test set"
   ]
  },
  {
   "cell_type": "code",
   "execution_count": 62,
   "id": "complimentary-mechanism",
   "metadata": {
    "scrolled": true
   },
   "outputs": [
    {
     "name": "stdout",
     "output_type": "stream",
     "text": [
      "....................................................................................................\n",
      "final cost:  0.6310210064121358\n",
      "training set percentage accuracy =  96.52 %\n",
      "test set percentage accuracy =  90.25 %\n"
     ]
    },
    {
     "data": {
      "image/png": "[encoded data removed]",
      "text/plain": [
       "<Figure size 432x288 with 1 Axes>"
      ]
     },
     "metadata": {
      "needs_background": "light"
     },
     "output_type": "display_data"
    }
   ],
   "source": [
    "NN_architecture = [784, 25, 10]\n",
    "max_iters = 500\n",
    "lr = 1\n",
    "lambd = 0.001\n",
    "Thetas, costs = train_nn(NN_architecture, X_train,\n",
    "                         y_train, sigmoid, max_iters, lr, lambd)\n",
    "acc_train_sigmoid, acc_test_sigmoid = show_results(\n",
    "    X_train, y_train, X_test, y_test, Thetas, sigmoid, costs)\n",
    "sigmoid_cost = costs[-1]"
   ]
  },
  {
   "cell_type": "markdown",
   "id": "expanded-billion",
   "metadata": {},
   "source": [
    "### ReLU\n",
    "Using the RelU activation function it was found that a lower learning rate was needed. It return a lower accuracy than the sigmoid of around 93% for the training set and 89% for the test set"
   ]
  },
  {
   "cell_type": "code",
   "execution_count": 63,
   "id": "mediterranean-cloud",
   "metadata": {
    "scrolled": true
   },
   "outputs": [
    {
     "name": "stdout",
     "output_type": "stream",
     "text": [
      "....................................................................................................\n",
      "final cost:  0.4813438018906871\n",
      "training set percentage accuracy =  93.92 %\n",
      "test set percentage accuracy =  89.27000000000001 %\n"
     ]
    },
    {
     "data": {
      "image/png": "[encoded data removed]",
      "text/plain": [
       "<Figure size 432x288 with 1 Axes>"
      ]
     },
     "metadata": {
      "needs_background": "light"
     },
     "output_type": "display_data"
    }
   ],
   "source": [
    "NN_architecture = [784, 25, 10]\n",
    "max_iters = 500\n",
    "lr = 0.1\n",
    "lambd = 0.001\n",
    "Thetas, costs = train_nn(NN_architecture, X_train,\n",
    "                         y_train, ReLU, max_iters, lr, lambd)\n",
    "acc_train_relu, acc_test_relu = show_results(X_train, y_train, X_test, y_test, Thetas, ReLU, costs)\n",
    "relu_cost = costs[-1]"
   ]
  },
  {
   "cell_type": "markdown",
   "id": "killing-million",
   "metadata": {},
   "source": [
    "### Linear\n",
    "A linear activation function is used in which the input of the function is equal to the output (identity). It provided surprisingly high results. I therefore checked its validity by attempting to see if an sklearn model could produce similarly high results."
   ]
  },
  {
   "cell_type": "code",
   "execution_count": 64,
   "id": "dependent-irrigation",
   "metadata": {},
   "outputs": [
    {
     "name": "stdout",
     "output_type": "stream",
     "text": [
      "....................................................................................................\n",
      "final cost:  0.5243219628288699\n",
      "training set percentage accuracy =  93.24 %\n",
      "test set percentage accuracy =  88.87 %\n"
     ]
    },
    {
     "data": {
      "image/png": "[encoded data removed]",
      "text/plain": [
       "<Figure size 432x288 with 1 Axes>"
      ]
     },
     "metadata": {
      "needs_background": "light"
     },
     "output_type": "display_data"
    }
   ],
   "source": [
    "NN_architecture = [784, 25, 10]\n",
    "max_iters = 400\n",
    "lr = 0.1\n",
    "lambd =0.001\n",
    "Thetas, costs = train_nn(NN_architecture, X_train,\n",
    "                         y_train, linear, max_iters, lr,lambd)\n",
    "acc_train_linear, acc_test_linear = show_results(X_train, y_train, X_test, y_test, Thetas, linear, costs)\n",
    "linear_cost = costs[-1]"
   ]
  },
  {
   "cell_type": "markdown",
   "id": "compatible-withdrawal",
   "metadata": {},
   "source": [
    "The code below was used to verify that a NN with a linear activation could produce the high results that were found in my implementation. It can be seen below that a pre-built also achieves high results with 91% accuracy. This therefore illustrates that the dataset is actually quite linearly separable. "
   ]
  },
  {
   "cell_type": "code",
   "execution_count": 65,
   "id": "artificial-lebanon",
   "metadata": {
    "scrolled": true
   },
   "outputs": [
    {
     "name": "stdout",
     "output_type": "stream",
     "text": [
      "sk learn linear percentage accuracy: 91.08000000000001 %\n"
     ]
    },
    {
     "name": "stderr",
     "output_type": "stream",
     "text": [
      "/home/thishen/.local/lib/python3.8/site-packages/sklearn/neural_network/_multilayer_perceptron.py:614: ConvergenceWarning: Stochastic Optimizer: Maximum iterations (100) reached and the optimization hasn't converged yet.\n",
      "  warnings.warn(\n"
     ]
    }
   ],
   "source": [
    "from sklearn.neural_network import MLPClassifier\n",
    "\n",
    "mlp = MLPClassifier(hidden_layer_sizes=(25), activation='identity', solver='adam', max_iter=100)\n",
    "mlp.fit(np.transpose(X_train),np.transpose(y_train))\n",
    "\n",
    "predict_train = np.transpose(mlp.predict(np.transpose(X_train))).astype(float)\n",
    "\n",
    "right=0\n",
    "for i in range(y_train.shape[1]):\n",
    "    if (predict_train[:,i]==y_train[:,i]).all():\n",
    "        right+=1\n",
    "print('sk learn linear percentage accuracy:',(right/y_train.shape[1])*100,'%')     \n"
   ]
  },
  {
   "cell_type": "markdown",
   "id": "metallic-being",
   "metadata": {},
   "source": [
    "### Tanh\n",
    "The Tanh function performed very well on the training set with an accuracy of around 99%. It also performed well achieving a similar accuracy on the test set as the sigmoid function."
   ]
  },
  {
   "cell_type": "code",
   "execution_count": 66,
   "id": "suitable-chocolate",
   "metadata": {
    "scrolled": true
   },
   "outputs": [
    {
     "name": "stdout",
     "output_type": "stream",
     "text": [
      "....................................................................................................\n",
      "final cost:  0.2710238570186842\n",
      "training set percentage accuracy =  99.6 %\n",
      "test set percentage accuracy =  90.34 %\n"
     ]
    },
    {
     "data": {
      "image/png": "[encoded data removed]",
      "text/plain": [
       "<Figure size 432x288 with 1 Axes>"
      ]
     },
     "metadata": {
      "needs_background": "light"
     },
     "output_type": "display_data"
    }
   ],
   "source": [
    "NN_architecture = [784, 25, 10]\n",
    "max_iters = 400\n",
    "lr = 1\n",
    "lambd =0.001\n",
    "Thetas, costs = train_nn(NN_architecture, X_train,\n",
    "                         y_train, tanh, max_iters, lr, lambd)\n",
    "acc_train_tanh, acc_test_tanh = show_results(X_train, y_train, X_test, y_test, Thetas, tanh, costs)\n",
    "tanh_cost = costs[-1]"
   ]
  },
  {
   "cell_type": "markdown",
   "id": "leading-serve",
   "metadata": {},
   "source": [
    "### Comparing The Functions\n",
    "It can be seen below that the Tanh activation function converges to the lowest point while the sigmoid function performs the worst in terms of it's final cost. We can conclude that the Tanh function performs best for this dataset and architecture as it performed the best in both training set metrics and test set metrics."
   ]
  },
  {
   "cell_type": "code",
   "execution_count": 67,
   "id": "declared-district",
   "metadata": {
    "scrolled": false
   },
   "outputs": [
    {
     "data": {
      "image/png": "[encoded data removed]",
      "text/plain": [
       "<Figure size 432x288 with 1 Axes>"
      ]
     },
     "metadata": {
      "needs_background": "light"
     },
     "output_type": "display_data"
    }
   ],
   "source": [
    "fig = plt.figure()\n",
    "ax = fig.add_axes([0,0,1,1])\n",
    "funcs = ['Sigmoid', 'ReLU', 'Linear', 'Tanh']\n",
    "values = [sigmoid_cost,relu_cost,linear_cost,tanh_cost]\n",
    "ax.bar(funcs,values)\n",
    "plt.ylabel(\"cost\")\n",
    "plt.show()"
   ]
  },
  {
   "cell_type": "markdown",
   "id": "operational-salad",
   "metadata": {},
   "source": [
    "## Exploring NN Architectures\n",
    "In this section we train neural networks of various depths with various numbers of units in each layer. All using the sigmoid activation function\n",
    "### Simple Neural Network\n",
    "The first network that will be trained has a single hidden layer containing 3 nodes (not including the bias node). It can be seen by the results below that the network learns a reasonable accuracy for the training set of around 70% and around 60% for the test set. The network is successfully learning but it can be improved."
   ]
  },
  {
   "cell_type": "code",
   "execution_count": 15,
   "id": "abstract-denial",
   "metadata": {
    "scrolled": true
   },
   "outputs": [
    {
     "name": "stdout",
     "output_type": "stream",
     "text": [
      "....................................................................................................\n",
      "training set percentage accuracy =  70.32000000000001 %\n",
      "test set percentage accuracy =  63.62 %\n",
      "final cost:  1.7536148228215171\n"
     ]
    },
    {
     "data": {
      "image/png": "[encoded data removed]",
      "text/plain": [
       "<Figure size 432x288 with 1 Axes>"
      ]
     },
     "metadata": {
      "needs_background": "light"
     },
     "output_type": "display_data"
    }
   ],
   "source": [
    "NN_architecture = [784, 3, 10]\n",
    "max_iters = 500\n",
    "lr = 1\n",
    "lambd =0.001\n",
    "Thetas, costs = train_nn(NN_architecture, X_train,\n",
    "                         y_train, sigmoid, max_iters, lr,lambd)\n",
    "show_results(X_train, y_train, X_test, y_test, Thetas, sigmoid, costs)"
   ]
  },
  {
   "cell_type": "markdown",
   "id": "occupational-lincoln",
   "metadata": {},
   "source": [
    "### Deeper Neural Network\n",
    "The second network we will train contains 3 hidden layers which each contain 3 units. It was found from training that deeper networks may be more susceptible to finding a local optima and converging at a below par cost. This may be due to the fact that it is learning a more complex function which cause there to be more local optima points that it could fall into. This phenomena can be seen below with the Neural network converging at a cost of around 3.25 and accuracy below 15%. "
   ]
  },
  {
   "cell_type": "code",
   "execution_count": 31,
   "id": "satisfied-vector",
   "metadata": {
    "scrolled": false
   },
   "outputs": [
    {
     "name": "stdout",
     "output_type": "stream",
     "text": [
      "....................................................................................................\n",
      "training set percentage accuracy =  11.200000000000001 %\n",
      "test set percentage accuracy =  9.82 %\n",
      "final cost:  3.2509705642196463\n"
     ]
    },
    {
     "data": {
      "image/png": "[encoded data removed]",
      "text/plain": [
       "<Figure size 432x288 with 1 Axes>"
      ]
     },
     "metadata": {
      "needs_background": "light"
     },
     "output_type": "display_data"
    }
   ],
   "source": [
    "NN_architecture = [784, 3,3,3, 10]\n",
    "max_iters = 500\n",
    "lr = 1\n",
    "lambd =0.001\n",
    "Thetas, costs = train_nn(NN_architecture, X_train,\n",
    "                         y_train, sigmoid, max_iters, lr,lambd)\n",
    "show_results(X_train, y_train, X_test, y_test, Thetas, sigmoid, costs)"
   ]
  },
  {
   "cell_type": "markdown",
   "id": "aquatic-tender",
   "metadata": {},
   "source": [
    "### Neural Network with More Units\n",
    "The next Neural network to be trained is consists of one hidden layer containing 25 units. Adding more units to the layer allowed for more complex functions to be learned. It found a suitable cost minimum of around 0.6 and accuracies of about 96 and 90 percent for the training set and test set respectively. There was a difference of about 6% between test and training accuracies"
   ]
  },
  {
   "cell_type": "code",
   "execution_count": 32,
   "id": "split-corrections",
   "metadata": {
    "scrolled": true
   },
   "outputs": [
    {
     "name": "stdout",
     "output_type": "stream",
     "text": [
      "....................................................................................................\n",
      "training set percentage accuracy =  97.0 %\n",
      "test set percentage accuracy =  90.03 %\n",
      "final cost:  0.24411256359532332\n"
     ]
    },
    {
     "data": {
      "image/png": "[encoded data removed]",
      "text/plain": [
       "<Figure size 432x288 with 1 Axes>"
      ]
     },
     "metadata": {
      "needs_background": "light"
     },
     "output_type": "display_data"
    }
   ],
   "source": [
    "NN_architecture = [784, 25, 10]\n",
    "max_iters = 500\n",
    "lr = 1\n",
    "lambd =0\n",
    "Thetas, costs = train_nn(NN_architecture, X_train,\n",
    "                         y_train, sigmoid, max_iters, lr,lambd)\n",
    "show_results(X_train, y_train, X_test, y_test, Thetas, sigmoid, costs)"
   ]
  },
  {
   "cell_type": "markdown",
   "id": "documentary-banana",
   "metadata": {},
   "source": [
    "### Deeper Neural network with More Units \n",
    "finally we train a Neural network of 2 hidden layers each containing 25 units. It was found below that since the network is more complicated it had to be trained for a longer. It was found to better fit the training set but perform worse on the test set than the previous network. The difference accuracy of test and training was around 10%. \n",
    "\n",
    "It can therefore be concluded that the depth of the layer can improve accuracy on training set predictions but at the same time causes the model to be less generalizable."
   ]
  },
  {
   "cell_type": "code",
   "execution_count": 33,
   "id": "southern-courage",
   "metadata": {},
   "outputs": [
    {
     "name": "stdout",
     "output_type": "stream",
     "text": [
      "....................................................................................................\n",
      "training set percentage accuracy =  99.92 %\n",
      "test set percentage accuracy =  89.02 %\n",
      "final cost:  0.03658445233820451\n"
     ]
    },
    {
     "data": {
      "image/png": "[encoded data removed]",
      "text/plain": [
       "<Figure size 432x288 with 1 Axes>"
      ]
     },
     "metadata": {
      "needs_background": "light"
     },
     "output_type": "display_data"
    }
   ],
   "source": [
    "NN_architecture = [784, 25,25, 10]\n",
    "iterations = 2000\n",
    "lr = 1\n",
    "lambd =0\n",
    "Thetas, costs = train_nn(NN_architecture, X_train,\n",
    "                         y_train, sigmoid, iterations, lr,lambd)\n",
    "show_results(X_train, y_train, X_test, y_test, Thetas, sigmoid, costs)"
   ]
  }
 ],
 "metadata": {
  "kernelspec": {
   "display_name": "Python 3",
   "language": "python",
   "name": "python3"
  },
  "language_info": {
   "codemirror_mode": {
    "name": "ipython",
    "version": 3
   },
   "file_extension": ".py",
   "mimetype": "text/x-python",
   "name": "python",
   "nbconvert_exporter": "python",
   "pygments_lexer": "ipython3",
   "version": "3.8.5"
  }
 },
 "nbformat": 4,
 "nbformat_minor": 5
}
