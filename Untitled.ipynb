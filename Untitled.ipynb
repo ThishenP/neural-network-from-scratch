{
 "cells": [
  {
   "cell_type": "code",
   "execution_count": 1,
   "id": "impossible-hunger",
   "metadata": {},
   "outputs": [
    {
     "data": {
      "text/plain": [
       "<Figure size 1080x720 with 0 Axes>"
      ]
     },
     "metadata": {},
     "output_type": "display_data"
    }
   ],
   "source": [
    "import pandas as pd\n",
    "import numpy as np\n",
    "import matplotlib.pyplot as plt\n",
    "from sklearn.model_selection import train_test_split\n",
    "plt.rcParams[\"figure.figsize\"] = (15,10)\n",
    "plt.gray()"
   ]
  },
  {
   "cell_type": "code",
   "execution_count": 2,
   "id": "front-beads",
   "metadata": {},
   "outputs": [],
   "source": [
    "def add_row_ones(X):\n",
    "    return np.append(np.ones((1,X.shape[1])),X,axis=0) #add column of 1s"
   ]
  },
  {
   "cell_type": "code",
   "execution_count": 3,
   "id": "hollywood-stylus",
   "metadata": {},
   "outputs": [],
   "source": [
    "def initialise_NN(layer_nums):\n",
    "\n",
    "#layer_nums: list with the amount of units in each hidden layer (excluding bias)\n",
    "#layer_nums includes input, hidden and output layers\n",
    "#(layer corresponds to index)\n",
    "    Thetas=[]\n",
    "    #randomly initialise Thetas\n",
    "    for i in range(1,len(layer_nums)):\n",
    "        Thetas.append(np.random.rand(layer_nums[i],layer_nums[i-1]+1))\n",
    "        \n",
    "    #the shape of Theta shows the NN architecture\n",
    "    return Thetas"
   ]
  },
  {
   "cell_type": "code",
   "execution_count": 4,
   "id": "induced-stupid",
   "metadata": {},
   "outputs": [],
   "source": [
    "def sigmoid(z):\n",
    "    return 1/(1+np.exp(-z))"
   ]
  },
  {
   "cell_type": "code",
   "execution_count": 224,
   "id": "cognitive-elder",
   "metadata": {},
   "outputs": [],
   "source": [
    "def forward_prop(X,Thetas,a_func):\n",
    "        A_vals = [X]\n",
    "        Z_vals = [None] #no Z_val for first layer \n",
    "        \n",
    "        #feed forward using given activation function\n",
    "        for i in range(len(Thetas)-1):\n",
    "            A_vals[-1] = add_row_ones(A_vals[-1])\n",
    "            Z_vals.append(np.dot(Thetas[i],A_vals[-1]))\n",
    "            A_vals.append(a_func(Z_vals[-1]))\n",
    "        \n",
    "        #using softmax regression for final layer\n",
    "        A_vals[-1] = add_row_ones(A_vals[-1])\n",
    "        Z_vals.append(np.dot(Thetas[-1],A_vals[-1]))\n",
    "        A_vals.append(softmax(Z_vals[-1]))\n",
    "        \n",
    "        return Z_vals, A_vals\n",
    "    "
   ]
  },
  {
   "cell_type": "code",
   "execution_count": 6,
   "id": "identified-biology",
   "metadata": {},
   "outputs": [],
   "source": [
    "def label_to_vector(y, number_of_classes):\n",
    "    y_new=np.zeros([number_of_classes,y.shape[0]])\n",
    "    s=0\n",
    "    for i in range(len(y)):\n",
    "        y_new[y[i]][i] = 1\n",
    "    return y_new\n",
    "        \n",
    "        "
   ]
  },
  {
   "cell_type": "code",
   "execution_count": 7,
   "id": "manual-turning",
   "metadata": {},
   "outputs": [],
   "source": [
    "def cost(X,y,Thetas,a_func):\n",
    "    _, A_vals =  forward_prop(X,Thetas,sigmoid)\n",
    "    h = A_vals[-1]\n",
    "    return (-1/n)*sum(sum((y*np.log(h)+(1-y)*np.log(1-h))))"
   ]
  },
  {
   "cell_type": "code",
   "execution_count": 108,
   "id": "banned-jenny",
   "metadata": {},
   "outputs": [],
   "source": [
    "def softmax(z):\n",
    "    e_z = np.exp(z-np.max(z))\n",
    "    return e_z/sum(e_z)"
   ]
  },
  {
   "cell_type": "code",
   "execution_count": 248,
   "id": "driven-display",
   "metadata": {},
   "outputs": [],
   "source": [
    "def back_prop(y, Z_vals, A_vals, Thetas,n):\n",
    "    deltas=[None]*(len(Thetas)+1)\n",
    "    grads=[None]*(len(Thetas))\n",
    "    deltas[-1] = A_vals[-1]-y\n",
    "    \n",
    "    \n",
    "    for i in reversed(range(1,len(Thetas))):\n",
    "        dg = A_vals[i]*(1-A_vals[i])\n",
    "        deltas[i] = np.transpose(Thetas[i][:,1:])@deltas[i+1]\n",
    "        \n",
    "    \n",
    "    for i in range(len(Thetas)):\n",
    "        grads[i] =  deltas[i+1]@np.transpose(A_vals[i])\n",
    "    D=[]\n",
    "    for grad in grads:\n",
    "        D.append((1/n)*grad)\n",
    "    return D"
   ]
  },
  {
   "cell_type": "code",
   "execution_count": 260,
   "id": "opening-comparison",
   "metadata": {},
   "outputs": [],
   "source": [
    "def percentage_accuracy(y,h):\n",
    "    right=0\n",
    "    for i in range(h.shape[1]):\n",
    "        if y[np.where(h[:,i] == max(h[:,i])),i]==1:\n",
    "            right=right+1\n",
    "    return (right/h.shape[1])*100\n",
    "    "
   ]
  },
  {
   "cell_type": "code",
   "execution_count": 282,
   "id": "absolute-chance",
   "metadata": {},
   "outputs": [],
   "source": [
    "#read in data\n",
    "df_train = pd.read_csv('mnist_train.csv',sep=r'\\s*,\\s*', engine='python')\n",
    "df_test = pd.read_csv('mnist_test.csv',sep=r'\\s*,\\s*', engine='python')"
   ]
  },
  {
   "cell_type": "code",
   "execution_count": 283,
   "id": "reduced-aurora",
   "metadata": {},
   "outputs": [],
   "source": [
    "#data handling\n",
    "\n",
    "n=df_train.shape[0] #number of training examples\n",
    "d=df_train.shape[1] #number of features\n",
    "num_classes = 10\n",
    "\n",
    "#create numpy matrices\n",
    "X_train = np.transpose(df_train.drop('label',axis=1).to_numpy())\n",
    "X_test = np.transpose(df_test.drop('label',axis=1).to_numpy())\n",
    "\n",
    "y_train_label = np.transpose(df_train['label'].to_numpy())\n",
    "y_test_label = np.transpose(df_test['label'].to_numpy())\n",
    "y_train  = label_to_vector(y_train_label, num_classes)\n",
    "y_test  = label_to_vector(y_test_label, num_classes)\n",
    "\n",
    "\n"
   ]
  },
  {
   "cell_type": "code",
   "execution_count": 250,
   "id": "romance-phenomenon",
   "metadata": {},
   "outputs": [],
   "source": [
    "#NN_architecture = [d-1,3,num_classes]\n",
    "\n"
   ]
  },
  {
   "cell_type": "code",
   "execution_count": 291,
   "id": "accepted-bench",
   "metadata": {},
   "outputs": [
    {
     "name": "stdout",
     "output_type": "stream",
     "text": [
      "5.976609657453549\n"
     ]
    },
    {
     "name": "stderr",
     "output_type": "stream",
     "text": [
      "<ipython-input-4-7a57b3e79abb>:2: RuntimeWarning: overflow encountered in exp\n",
      "  return 1/(1+np.exp(-z))\n"
     ]
    },
    {
     "name": "stdout",
     "output_type": "stream",
     "text": [
      "3.909463739272559\n",
      "3.3251683509026884\n",
      "3.1539873112771364\n",
      "1.4543703683869094\n",
      "1.215601967956764\n",
      "1.13889119764737\n",
      "1.0941472443258045\n",
      "1.0678158045699024\n",
      "1.0513221186699173\n",
      "1.0451021611393385\n",
      "1.0429005493658645\n",
      "1.048478485841733\n",
      "training set percentage accuracy = 78.60333333333334 %\n",
      "test set percentage accuracy = 79.49000000000001 %\n"
     ]
    }
   ],
   "source": [
    "NN_architecture = [d-1,25,num_classes]\n",
    "Thetas = initialise_NN(NN_architecture)\n",
    "for i in range(1000):\n",
    "    Z_vals, A_vals = forward_prop(X_train,Thetas,sigmoid)\n",
    "    if i%100==0 or i==1 or i==2 or i==3:\n",
    "        print(cost(X_train,y_train,Thetas,sigmoid))\n",
    "    D = back_prop(y_train,Z_vals, A_vals,Thetas,60000)\n",
    "    for i in range(len(Thetas)):\n",
    "        Thetas[i] =Thetas[i] - D[i]\n",
    "        \n",
    "Z_vals, A_vals = forward_prop(X_train,Thetas,sigmoid)\n",
    "print(\"training set percentage accuracy =\", percentage_accuracy(y_train,A_vals[-1]),'%')\n",
    "\n",
    "Z_vals, A_vals = forward_prop(X_test,Thetas,sigmoid)\n",
    "print(\"test set percentage accuracy =\", percentage_accuracy(y_test,A_vals[-1]),'%')"
   ]
  },
  {
   "cell_type": "code",
   "execution_count": 289,
   "id": "qualified-salem",
   "metadata": {},
   "outputs": [
    {
     "name": "stderr",
     "output_type": "stream",
     "text": [
      "<ipython-input-4-7a57b3e79abb>:2: RuntimeWarning: overflow encountered in exp\n",
      "  return 1/(1+np.exp(-z))\n"
     ]
    },
    {
     "name": "stdout",
     "output_type": "stream",
     "text": [
      "training set percentage accuracy = 51.10166666666667 %\n",
      "test set percentage accuracy = 51.959999999999994 %\n"
     ]
    }
   ],
   "source": [
    "\n",
    "Z_vals, A_vals = forward_prop(X_train,Thetas,sigmoid)\n",
    "print(\"training set percentage accuracy =\", percentage_accuracy(y_train,A_vals[-1]),'%')\n",
    "\n",
    "Z_vals, A_vals = forward_prop(X_test,Thetas,sigmoid)\n",
    "print(\"test set percentage accuracy =\", percentage_accuracy(y_test,A_vals[-1]),'%')"
   ]
  },
  {
   "cell_type": "code",
   "execution_count": 97,
   "id": "mighty-demonstration",
   "metadata": {},
   "outputs": [
    {
     "data": {
      "text/plain": [
       "<matplotlib.image.AxesImage at 0x7fca562e4c10>"
      ]
     },
     "execution_count": 97,
     "metadata": {},
     "output_type": "execute_result"
    },
    {
     "data": {
      "image/png": "[encoded data removed]",
      "text/plain": [
       "<Figure size 1080x720 with 1 Axes>"
      ]
     },
     "metadata": {
      "needs_background": "light"
     },
     "output_type": "display_data"
    }
   ],
   "source": [
    "plt.imshow(X_test[:,70].reshape([28,28]))"
   ]
  }
 ],
 "metadata": {
  "kernelspec": {
   "display_name": "Python 3",
   "language": "python",
   "name": "python3"
  },
  "language_info": {
   "codemirror_mode": {
    "name": "ipython",
    "version": 3
   },
   "file_extension": ".py",
   "mimetype": "text/x-python",
   "name": "python",
   "nbconvert_exporter": "python",
   "pygments_lexer": "ipython3",
   "version": "3.8.5"
  }
 },
 "nbformat": 4,
 "nbformat_minor": 5
}
