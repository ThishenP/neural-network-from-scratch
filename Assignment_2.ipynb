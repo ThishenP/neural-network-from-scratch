{
 "cells": [
  {
   "cell_type": "markdown",
   "id": "contrary-natural",
   "metadata": {},
   "source": [
    "# ACML Assignment 2\n",
    "In this assignment a neural network is built from scratch and trained using backpropagation. The working of the neural network is then explored by experimenting with different activation functions and neural network architectures. The MNIST dataset is used in which images of handwritten digits are paired with their corresponding label. Given images of handwritten digits the actual digit is predicted.\n",
    "\n",
    "## Neural Network Implementation\n",
    "A customizable neural network framework is created which can run networks with any number of layers and any number of units within those layers. The framework also allows for a choice of which activation function will be used in the layers leading up to the final layer. The final layer uses a softmax regression function to make its prediction. "
   ]
  },
  {
   "cell_type": "code",
   "execution_count": 27,
   "id": "impossible-hunger",
   "metadata": {},
   "outputs": [
    {
     "data": {
      "text/plain": [
       "<Figure size 432x288 with 0 Axes>"
      ]
     },
     "metadata": {},
     "output_type": "display_data"
    }
   ],
   "source": [
    "import pandas as pd\n",
    "import numpy as np\n",
    "import matplotlib.pyplot as plt\n",
    "plt.gray()"
   ]
  },
  {
   "cell_type": "code",
   "execution_count": 28,
   "id": "front-beads",
   "metadata": {},
   "outputs": [],
   "source": [
    "# returns input matrix with a row of ones added\n",
    "def add_row_ones(X):\n",
    "    return np.append(np.ones((1, X.shape[1])), X, axis=0)"
   ]
  },
  {
   "cell_type": "code",
   "execution_count": 29,
   "id": "induced-stupid",
   "metadata": {},
   "outputs": [],
   "source": [
    "# Activation Functions\n",
    "# each activation function is created here and passed into other functions when needed\n",
    "# d_<activation function>(z) is the corresponding activation function's derivative\n",
    "\n",
    "\n",
    "def sigmoid(z):\n",
    "    return 1/(1+np.exp(-z))\n",
    "\n",
    "\n",
    "def d_sigmoid(z):\n",
    "    return (1-sigmoid(z))*(sigmoid(z))\n",
    "\n",
    "\n",
    "def linear(z):\n",
    "    return z\n",
    "\n",
    "\n",
    "def d_linear(z):\n",
    "    return 1\n",
    "\n",
    "\n",
    "def tanh(z):\n",
    "    return np.tanh(z)\n",
    "\n",
    "\n",
    "def d_tanh(z):\n",
    "    return (1-np.tanh(z)**2)\n",
    "\n",
    "\n",
    "def ReLU(z):\n",
    "    return np.maximum(0, z)\n",
    "\n",
    "\n",
    "def d_ReLU(z):\n",
    "    return np.maximum(0, z)/z\n",
    "\n",
    "\n",
    "a_func_derivatives = {sigmoid: d_sigmoid,\n",
    "                      linear: d_linear, tanh: d_tanh, ReLU: d_ReLU}"
   ]
  },
  {
   "cell_type": "code",
   "execution_count": 30,
   "id": "atomic-stations",
   "metadata": {},
   "outputs": [],
   "source": [
    "# softmax regression used for final layer of network\n",
    "\n",
    "\n",
    "def softmax(z):\n",
    "    e_z = np.exp(z-np.max(z))\n",
    "    return e_z/sum(e_z)"
   ]
  },
  {
   "cell_type": "code",
   "execution_count": 31,
   "id": "identified-biology",
   "metadata": {},
   "outputs": [],
   "source": [
    "# turns label into vector which has a one at index=label and 0s everywhere else\n",
    "\n",
    "\n",
    "def label_to_vector(y, number_of_classes):\n",
    "    y_new = np.zeros([number_of_classes, y.shape[0]])\n",
    "    s = 0\n",
    "    for i in range(len(y)):\n",
    "        y_new[y[i]][i] = 1\n",
    "    return y_new"
   ]
  },
  {
   "cell_type": "code",
   "execution_count": 32,
   "id": "manual-turning",
   "metadata": {},
   "outputs": [],
   "source": [
    "# regularized cost function for a classification neural network\n",
    "\n",
    "\n",
    "def cost(X, y, Thetas, a_func, lambd):\n",
    "    _, A_vals = forward_prop(X, Thetas, a_func)\n",
    "    h = A_vals[-1]\n",
    "    n = X.shape[1]\n",
    "    reg = 0\n",
    "    for i in range(len(Thetas)):\n",
    "        reg += sum(sum(Thetas[i][:, 1:]**2))\n",
    "    reg *= lambd\n",
    "    return (-1/n)*sum(sum((y*np.log(h)+(1-y)*np.log(1-h)))) + reg"
   ]
  },
  {
   "cell_type": "code",
   "execution_count": 33,
   "id": "baking-campus",
   "metadata": {},
   "outputs": [],
   "source": [
    "# calculates the percentage of predictions that are correct\n",
    "# given softmax output and the correct labels (y)\n",
    "\n",
    "\n",
    "def percentage_accuracy(y, h):\n",
    "    right = 0\n",
    "    for i in range(h.shape[1]):\n",
    "        if y[np.where(h[:, i] == max(h[:, i])), i] == 1:\n",
    "            right = right+1\n",
    "    return (right/h.shape[1])*100"
   ]
  },
  {
   "cell_type": "code",
   "execution_count": 34,
   "id": "continental-kuwait",
   "metadata": {},
   "outputs": [],
   "source": [
    "# plots the cost at each epoch and prints other results\n",
    "\n",
    "\n",
    "def show_results(X_train, y_train, X_test, y_test, Thetas, a_func, costs):\n",
    "    plt.plot(costs)\n",
    "    print('final cost: ', costs[-1])\n",
    "\n",
    "    Z_vals, A_vals = forward_prop(X_train, Thetas, a_func)\n",
    "    p_acc_train = percentage_accuracy(y_train, A_vals[-1])\n",
    "    print(\"training set percentage accuracy = \",\n",
    "          p_acc_train, '%')\n",
    "\n",
    "    Z_vals, A_vals = forward_prop(X_test, Thetas, a_func)\n",
    "    p_acc_test = percentage_accuracy(y_test, A_vals[-1])\n",
    "    print(\"test set percentage accuracy = \",\n",
    "          p_acc_test, '%')\n",
    "\n",
    "    return p_acc_train, p_acc_test"
   ]
  },
  {
   "cell_type": "markdown",
   "id": "medical-easter",
   "metadata": {},
   "source": [
    "### Notation and shapes clarification\n",
    "\n",
    "Thetas include the bias term. \n",
    "\n",
    "each feature forms a row of X and each training example forms a column of X of X. (X.shape = num_features x num_examples)\n",
    "\n",
    "each class forms a row of y and each training example forms a column of y. (y.shape = num_classes x num_examples)\n",
    "\n",
    "Lists are used to save the values of the neural network in which each layer is represented by the index of the lists. The index starts at 0 (different to the mathematical notation which starts at 1). For example A_vals[0] is equivalent to the input layer written as $x$ or $a^{[1]}$. Similar logic applies for variables Thetas and Z_vals"
   ]
  },
  {
   "cell_type": "code",
   "execution_count": 35,
   "id": "curious-fortune",
   "metadata": {},
   "outputs": [],
   "source": [
    "def initialise_Thetas(layer_nums):\n",
    "    # layer_nums: list with the amount of units in each hidden layer (excluding bias)\n",
    "    # layer_nums includes input, hidden and output layers\n",
    "    # (layer corresponds to index)\n",
    "    Thetas = []\n",
    "    # randomly initialise Thetas\n",
    "    for i in range(1, len(layer_nums)):\n",
    "        random = np.random.rand(layer_nums[i], layer_nums[i-1]+1)\n",
    "        random = random * np.sqrt(2/(layer_nums[i-1]+1))\n",
    "        Thetas.append(random)\n",
    "\n",
    "    return Thetas"
   ]
  },
  {
   "cell_type": "code",
   "execution_count": 36,
   "id": "quiet-patent",
   "metadata": {},
   "outputs": [],
   "source": [
    "# propogates forward through the nueral network and returns all values of Z\n",
    "# and the activations A it finds along the way\n",
    "# index of lists represent layer (starting at 0)\n",
    "\n",
    "\n",
    "def forward_prop(X, Thetas, a_func):\n",
    "    A_vals = [X]\n",
    "    Z_vals = [None]  # no Z_val for first layer\n",
    "\n",
    "    # feed forward using given activation function\n",
    "    for i in range(len(Thetas)-1):\n",
    "        A_vals[-1] = add_row_ones(A_vals[-1])\n",
    "        Z_vals.append(np.dot(Thetas[i], A_vals[-1]))\n",
    "        A_vals.append(a_func(Z_vals[-1]))\n",
    "\n",
    "    # using softmax regression for final layer\n",
    "    A_vals[-1] = add_row_ones(A_vals[-1])\n",
    "    Z_vals.append(np.dot(Thetas[-1], A_vals[-1]))\n",
    "    A_vals.append(softmax(Z_vals[-1]))\n",
    "\n",
    "    return Z_vals, A_vals"
   ]
  },
  {
   "cell_type": "code",
   "execution_count": 37,
   "id": "driven-display",
   "metadata": {},
   "outputs": [],
   "source": [
    "# vectorised implementation of back prop.\n",
    "# loops only used to loop through layers.\n",
    "# Which therefore allows for a variable number of layers\n",
    "\n",
    "\n",
    "def back_prop(y, Z_vals, A_vals, Thetas, n, d_a_func, lambd):\n",
    "\n",
    "    # deltas is initialised since we find the elements in the reverse order of the list\n",
    "    deltas = [None]*(len(Thetas)+1)\n",
    "\n",
    "    grads = []\n",
    "    deltas[-1] = A_vals[-1]-y\n",
    "\n",
    "    for i in reversed(range(1, len(Thetas))):\n",
    "        dg = d_a_func(Z_vals[i])  # derivative of activation function\n",
    "        deltas[i] = np.transpose(Thetas[i][:, 1:])@deltas[i+1]*dg\n",
    "\n",
    "    Ds = []  # stores Gradient matrices D for each layer (same shape as Thetas)\n",
    "    for i in range(len(Thetas)):\n",
    "        grads.append(deltas[i+1]@np.transpose(A_vals[i]))\n",
    "        D = (1/n)*grads[i]\n",
    "        # regularization (excluding bias)\n",
    "        D[:, 1:] = D[:, 1:] + lambd*Thetas[i][:, 1:]\n",
    "        Ds.append(D)\n",
    "\n",
    "    return Ds"
   ]
  },
  {
   "cell_type": "code",
   "execution_count": 38,
   "id": "foreign-seattle",
   "metadata": {},
   "outputs": [],
   "source": [
    "# trains the nn for a given amount of iterations\n",
    "\n",
    "\n",
    "def train_nn(NN_architecture, X_train, y_train, a_func, iterations, lr, lambd):\n",
    "    costs = []\n",
    "    # initialising Theta based on given neural network architecture\n",
    "    Thetas = initialise_Thetas(NN_architecture)\n",
    "    # derivative of the given activation function\n",
    "    d_a_func = a_func_derivatives[a_func]\n",
    "\n",
    "    for i in range(iterations):\n",
    "        # loading bar for training. complete after a maximum of 100 dots\n",
    "        if i % int(iterations/100) == 0:\n",
    "            print('.', end=\"\")\n",
    "\n",
    "        # forward propogation\n",
    "        Z_vals, A_vals = forward_prop(X_train, Thetas, a_func)\n",
    "\n",
    "        # storing all costs for plot\n",
    "        costs.append(cost(X_train, y_train, Thetas, a_func, lambd))\n",
    "\n",
    "        # back propogation\n",
    "        D = back_prop(y_train, Z_vals, A_vals, Thetas,\n",
    "                      X_train.shape[1], d_a_func, lambd)\n",
    "\n",
    "        # updating Thetas\n",
    "        for i in range(len(Thetas)):\n",
    "            Thetas[i] = Thetas[i] - lr*D[i]\n",
    "    print()  # to end line\n",
    "    return Thetas, costs"
   ]
  },
  {
   "cell_type": "code",
   "execution_count": 39,
   "id": "absolute-chance",
   "metadata": {},
   "outputs": [],
   "source": [
    "# read in data - takes quite long since the dataset is large (took about 30 seconds for me)\n",
    "df_train = pd.read_csv('mnist_train.csv',\n",
    "                       sep=r'\\s*,\\s*', engine='python')\n",
    "df_test = pd.read_csv('mnist_test.csv',\n",
    "                      sep=r'\\s*,\\s*', engine='python')"
   ]
  },
  {
   "cell_type": "code",
   "execution_count": 40,
   "id": "reduced-aurora",
   "metadata": {},
   "outputs": [],
   "source": [
    "# data handling\n",
    "num_classes = 10\n",
    "\n",
    "# create numpy matrices\n",
    "# only used the first 2500 training examples to speed up training\n",
    "# alot can still be learned from the first 2500\n",
    "\n",
    "X_train = np.transpose(df_train.drop('label', axis=1).to_numpy())[:, :2500]\n",
    "X_test = np.transpose(df_test.drop('label', axis=1).to_numpy())\n",
    "\n",
    "X_train = X_train/255\n",
    "X_test = X_test/255\n",
    "\n",
    "y_train_label = np.transpose(df_train['label'].to_numpy())[:2500]\n",
    "y_test_label = np.transpose(df_test['label'].to_numpy())\n",
    "y_train = label_to_vector(y_train_label, num_classes)\n",
    "y_test = label_to_vector(y_test_label, num_classes)"
   ]
  },
  {
   "cell_type": "markdown",
   "id": "czech-spare",
   "metadata": {},
   "source": [
    "## Exploring Activation Functions\n",
    "In this section neural networks are trained with different activation functions and compared. The network architecture that worked best (found in the 'Exploring NN architectures' section below) is a network that contains a single hidden layer of 25 units. This architecture will be used for all experiments in this section. When training, a dot is printed after a certain amount of epochs such that after 100 dots the training will be done (loading bar).\n",
    "### Sigmoid\n",
    "A sigmoid activation function is used as a base below and  returns a high accuracy of around 96% for the training set and 90% for the test set"
   ]
  },
  {
   "cell_type": "code",
   "execution_count": 42,
   "id": "complimentary-mechanism",
   "metadata": {
    "scrolled": true
   },
   "outputs": [
    {
     "name": "stdout",
     "output_type": "stream",
     "text": [
      "....................................................................................................\n",
      "final cost:  0.6395527291060648\n",
      "training set percentage accuracy =  96.44 %\n",
      "test set percentage accuracy =  89.81 %\n"
     ]
    },
    {
     "data": {
      "image/png": "[encoded data removed]",
      "text/plain": [
       "<Figure size 432x288 with 1 Axes>"
      ]
     },
     "metadata": {
      "needs_background": "light"
     },
     "output_type": "display_data"
    }
   ],
   "source": [
    "NN_architecture = [784, 25, 10]\n",
    "iterations = 500\n",
    "lr = 1\n",
    "lambd = 0.001\n",
    "Thetas, costs = train_nn(NN_architecture, X_train,\n",
    "                         y_train, sigmoid, iterations, lr, lambd)\n",
    "acc_train_sigmoid, acc_test_sigmoid = show_results(\n",
    "    X_train, y_train, X_test, y_test, Thetas, sigmoid, costs)\n",
    "sigmoid_cost = costs[-1]"
   ]
  },
  {
   "cell_type": "markdown",
   "id": "expanded-billion",
   "metadata": {},
   "source": [
    "### ReLU\n",
    "Using the RelU activation function it was found that a lower learning rate was needed. It returns a lower accuracy than the sigmoid of around 93% for the training set and 89% for the test set"
   ]
  },
  {
   "cell_type": "code",
   "execution_count": 43,
   "id": "mediterranean-cloud",
   "metadata": {
    "scrolled": true
   },
   "outputs": [
    {
     "name": "stdout",
     "output_type": "stream",
     "text": [
      "....................................................................................................\n",
      "final cost:  0.4817647478586972\n",
      "training set percentage accuracy =  93.60000000000001 %\n",
      "test set percentage accuracy =  89.18 %\n"
     ]
    },
    {
     "data": {
      "image/png": "[encoded data removed]",
      "text/plain": [
       "<Figure size 432x288 with 1 Axes>"
      ]
     },
     "metadata": {
      "needs_background": "light"
     },
     "output_type": "display_data"
    }
   ],
   "source": [
    "NN_architecture = [784, 25, 10]\n",
    "iterations = 500\n",
    "lr = 0.1\n",
    "lambd = 0.001\n",
    "Thetas, costs = train_nn(NN_architecture, X_train,\n",
    "                         y_train, ReLU, iterations, lr, lambd)\n",
    "acc_train_relu, acc_test_relu = show_results(\n",
    "    X_train, y_train, X_test, y_test, Thetas, ReLU, costs)\n",
    "relu_cost = costs[-1]"
   ]
  },
  {
   "cell_type": "markdown",
   "id": "killing-million",
   "metadata": {},
   "source": [
    "### Linear\n",
    "A linear activation function is used in which the input of the function is equal to the output (identity). It provided surprisingly high results. I therefore checked its validity by attempting to see if an sklearn model could produce similarly high results."
   ]
  },
  {
   "cell_type": "code",
   "execution_count": 44,
   "id": "dependent-irrigation",
   "metadata": {},
   "outputs": [
    {
     "name": "stdout",
     "output_type": "stream",
     "text": [
      "....................................................................................................\n",
      "final cost:  0.5230488331531753\n",
      "training set percentage accuracy =  93.04 %\n",
      "test set percentage accuracy =  88.96 %\n"
     ]
    },
    {
     "data": {
      "image/png": "[encoded data removed]",
      "text/plain": [
       "<Figure size 432x288 with 1 Axes>"
      ]
     },
     "metadata": {
      "needs_background": "light"
     },
     "output_type": "display_data"
    }
   ],
   "source": [
    "NN_architecture = [784, 25, 10]\n",
    "iterations = 400\n",
    "lr = 0.1\n",
    "lambd = 0.001\n",
    "Thetas, costs = train_nn(NN_architecture, X_train,\n",
    "                         y_train, linear, iterations, lr, lambd)\n",
    "acc_train_linear, acc_test_linear = show_results(\n",
    "    X_train, y_train, X_test, y_test, Thetas, linear, costs)\n",
    "linear_cost = costs[-1]"
   ]
  },
  {
   "cell_type": "markdown",
   "id": "compatible-withdrawal",
   "metadata": {},
   "source": [
    "The code below was used to verify that a NN with a linear activation could produce the high results that were found in my implementation. It can be seen below that a pre-built also achieves high results with 91% accuracy. This therefore illustrates that the dataset is actually quite linearly separable. "
   ]
  },
  {
   "cell_type": "code",
   "execution_count": 46,
   "id": "artificial-lebanon",
   "metadata": {
    "scrolled": true
   },
   "outputs": [
    {
     "name": "stdout",
     "output_type": "stream",
     "text": [
      "sk learn linear percentage accuracy: 91.84 %\n"
     ]
    },
    {
     "name": "stderr",
     "output_type": "stream",
     "text": [
      "/home/thishen/.local/lib/python3.8/site-packages/sklearn/neural_network/_multilayer_perceptron.py:614: ConvergenceWarning: Stochastic Optimizer: Maximum iterations (100) reached and the optimization hasn't converged yet.\n",
      "  warnings.warn(\n"
     ]
    }
   ],
   "source": [
    "from sklearn.neural_network import MLPClassifier\n",
    "\n",
    "mlp = MLPClassifier(hidden_layer_sizes=(\n",
    "    25), activation='identity', solver='adam', max_iter=100)\n",
    "mlp.fit(np.transpose(X_train), np.transpose(y_train))\n",
    "\n",
    "predict_train = np.transpose(mlp.predict(np.transpose(X_train))).astype(float)\n",
    "\n",
    "#had to use different percentage accuracy code as sk learn prediction is in a different form\n",
    "right = 0\n",
    "for i in range(y_train.shape[1]):\n",
    "    if (predict_train[:, i] == y_train[:, i]).all():\n",
    "        right += 1\n",
    "print('sk learn linear percentage accuracy:',\n",
    "      (right/y_train.shape[1])*100, '%')"
   ]
  },
  {
   "cell_type": "markdown",
   "id": "metallic-being",
   "metadata": {},
   "source": [
    "### Tanh\n",
    "The Tanh function performed very well on the training set with an accuracy of around 99%. It also performed well achieving the highest accuracy on the test set"
   ]
  },
  {
   "cell_type": "code",
   "execution_count": 47,
   "id": "suitable-chocolate",
   "metadata": {
    "scrolled": true
   },
   "outputs": [
    {
     "name": "stdout",
     "output_type": "stream",
     "text": [
      "....................................................................................................\n",
      "final cost:  0.27163027064188144\n",
      "training set percentage accuracy =  99.68 %\n",
      "test set percentage accuracy =  90.45 %\n"
     ]
    },
    {
     "data": {
      "image/png": "[encoded data removed]",
      "text/plain": [
       "<Figure size 432x288 with 1 Axes>"
      ]
     },
     "metadata": {
      "needs_background": "light"
     },
     "output_type": "display_data"
    }
   ],
   "source": [
    "NN_architecture = [784, 25, 10]\n",
    "iterations = 400\n",
    "lr = 1\n",
    "lambd = 0.001\n",
    "Thetas, costs = train_nn(NN_architecture, X_train,\n",
    "                         y_train, tanh, iterations, lr, lambd)\n",
    "acc_train_tanh, acc_test_tanh = show_results(\n",
    "    X_train, y_train, X_test, y_test, Thetas, tanh, costs)\n",
    "tanh_cost = costs[-1]"
   ]
  },
  {
   "cell_type": "markdown",
   "id": "leading-serve",
   "metadata": {},
   "source": [
    "### Comparing The Functions\n",
    "It can be seen below that the Tanh activation function converges to the lowest point while the sigmoid function performs the worst in terms of it's final cost. We can conclude that the Tanh function performs best for this dataset and architecture as it performed the best in both training set metrics and test set metrics."
   ]
  },
  {
   "cell_type": "code",
   "execution_count": 48,
   "id": "declared-district",
   "metadata": {
    "scrolled": false
   },
   "outputs": [
    {
     "data": {
      "image/png": "[encoded data removed]",
      "text/plain": [
       "<Figure size 432x288 with 1 Axes>"
      ]
     },
     "metadata": {
      "needs_background": "light"
     },
     "output_type": "display_data"
    }
   ],
   "source": [
    "fig = plt.figure()\n",
    "ax = fig.add_axes([0, 0, 1, 1])\n",
    "funcs = ['Sigmoid', 'ReLU', 'Linear', 'Tanh']\n",
    "values = [sigmoid_cost, relu_cost, linear_cost, tanh_cost]\n",
    "ax.bar(funcs, values)\n",
    "plt.ylabel(\"cost\")\n",
    "plt.show()"
   ]
  },
  {
   "cell_type": "markdown",
   "id": "operational-salad",
   "metadata": {},
   "source": [
    "## Exploring NN Architectures\n",
    "In this section we train neural networks of various depths with various numbers of units in each layer. All using the sigmoid activation function\n",
    "### Simple Neural Network\n",
    "The first network that will be trained has a single hidden layer containing 3 nodes (not including the bias node). It can be seen by the results below that the network learns a reasonable accuracy for the training set of around 70% and around 60% for the test set. The network is successfully learning but it can be improved."
   ]
  },
  {
   "cell_type": "code",
   "execution_count": 49,
   "id": "abstract-denial",
   "metadata": {
    "scrolled": false
   },
   "outputs": [
    {
     "name": "stdout",
     "output_type": "stream",
     "text": [
      "....................................................................................................\n",
      "final cost:  1.6094122722180528\n",
      "training set percentage accuracy =  73.4 %\n",
      "test set percentage accuracy =  66.9 %\n"
     ]
    },
    {
     "data": {
      "image/png": "[encoded data removed]",
      "text/plain": [
       "<Figure size 432x288 with 1 Axes>"
      ]
     },
     "metadata": {
      "needs_background": "light"
     },
     "output_type": "display_data"
    }
   ],
   "source": [
    "NN_architecture = [784, 3, 10]\n",
    "iterations = 500\n",
    "lr = 1\n",
    "lambd = 0.001\n",
    "Thetas, costs = train_nn(NN_architecture, X_train,\n",
    "                         y_train, sigmoid, iterations, lr, lambd)\n",
    "acc_train, acc_test = show_results(X_train, y_train, X_test, y_test, Thetas, sigmoid, costs)"
   ]
  },
  {
   "cell_type": "markdown",
   "id": "occupational-lincoln",
   "metadata": {},
   "source": [
    "### Deeper Neural Network\n",
    "The second network we will train contains 3 hidden layers which each contain 3 units. It was found from training, that deeper networks may be more susceptible to finding a local optima and converging at a below par cost. This may be due to the fact that it is learning a more complex function which cause there to be more local optima points that it could fall into. This phenomena can be seen below with the Neural network converging at a cost of around 3.25 and accuracy below 15%. "
   ]
  },
  {
   "cell_type": "code",
   "execution_count": 50,
   "id": "satisfied-vector",
   "metadata": {
    "scrolled": false
   },
   "outputs": [
    {
     "name": "stdout",
     "output_type": "stream",
     "text": [
      "....................................................................................................\n",
      "final cost:  3.251525262746984\n",
      "training set percentage accuracy =  11.200000000000001 %\n",
      "test set percentage accuracy =  9.82 %\n"
     ]
    },
    {
     "data": {
      "image/png": "[encoded data removed]",
      "text/plain": [
       "<Figure size 432x288 with 1 Axes>"
      ]
     },
     "metadata": {
      "needs_background": "light"
     },
     "output_type": "display_data"
    }
   ],
   "source": [
    "NN_architecture = [784, 3, 3, 3, 10]\n",
    "iterations = 500\n",
    "lr = 1\n",
    "lambd = 0.001\n",
    "Thetas, costs = train_nn(NN_architecture, X_train,\n",
    "                         y_train, sigmoid, iterations, lr, lambd)\n",
    "acc_train, acc_test = show_results(X_train, y_train, X_test, y_test, Thetas, sigmoid, costs)"
   ]
  },
  {
   "cell_type": "markdown",
   "id": "aquatic-tender",
   "metadata": {},
   "source": [
    "### Neural Network with More Units\n",
    "The next Neural network to be trained is consists of one hidden layer containing 25 units. Adding more units to the layer allowed for more complex functions to be learned. It found a suitable cost minimum of around 0.6 and accuracies of about 97 and 90 percent for the training set and test set respectively. There was a difference of about 7% between test and training accuracies"
   ]
  },
  {
   "cell_type": "code",
   "execution_count": 51,
   "id": "split-corrections",
   "metadata": {
    "scrolled": false
   },
   "outputs": [
    {
     "name": "stdout",
     "output_type": "stream",
     "text": [
      "....................................................................................................\n",
      "final cost:  0.2391390912266198\n",
      "training set percentage accuracy =  97.28 %\n",
      "test set percentage accuracy =  90.25 %\n"
     ]
    },
    {
     "data": {
      "image/png": "[encoded data removed]",
      "text/plain": [
       "<Figure size 432x288 with 1 Axes>"
      ]
     },
     "metadata": {
      "needs_background": "light"
     },
     "output_type": "display_data"
    }
   ],
   "source": [
    "NN_architecture = [784, 25, 10]\n",
    "iterations = 500\n",
    "lr = 1\n",
    "lambd = 0\n",
    "Thetas, costs = train_nn(NN_architecture, X_train,\n",
    "                         y_train, sigmoid, iterations, lr, lambd)\n",
    "acc_train, acc_test = show_results(X_train, y_train, X_test, y_test, Thetas, sigmoid, costs)"
   ]
  },
  {
   "cell_type": "markdown",
   "id": "documentary-banana",
   "metadata": {},
   "source": [
    "### Deeper Neural network with More Units \n",
    "finally we train a Neural network of 2 hidden layers each containing 25 units. It was found below that since the network is more complicated it had to be trained for a longer. It was found to better fit the training set but perform worse on the test set than the previous network. The difference accuracy of test and training was around 10%. \n",
    "\n",
    "It can therefore be concluded that the depth of the layer can improve accuracy on training set predictions but at the same time causes the model to be less generalizable."
   ]
  },
  {
   "cell_type": "code",
   "execution_count": 52,
   "id": "southern-courage",
   "metadata": {},
   "outputs": [
    {
     "name": "stdout",
     "output_type": "stream",
     "text": [
      "....................................................................................................\n",
      "final cost:  0.03697206331971535\n",
      "training set percentage accuracy =  99.92 %\n",
      "test set percentage accuracy =  88.73 %\n"
     ]
    },
    {
     "data": {
      "image/png": "[encoded data removed]",
      "text/plain": [
       "<Figure size 432x288 with 1 Axes>"
      ]
     },
     "metadata": {
      "needs_background": "light"
     },
     "output_type": "display_data"
    }
   ],
   "source": [
    "NN_architecture = [784, 25, 25, 10]\n",
    "iterations = 2000\n",
    "lr = 1\n",
    "lambd = 0\n",
    "Thetas, costs = train_nn(NN_architecture, X_train,\n",
    "                         y_train, sigmoid, iterations, lr, lambd)\n",
    "acc_train, acc_test = show_results(X_train, y_train, X_test, y_test, Thetas, sigmoid, costs)"
   ]
  },
  {
   "cell_type": "markdown",
   "id": "reported-potato",
   "metadata": {},
   "source": [
    "## Conclusion\n",
    "it was found that the Tanh functions performs best for this type of data within this architecture. It was also found that a shallow architecture with many units in a single hidden performed best on this type of data "
   ]
  }
 ],
 "metadata": {
  "kernelspec": {
   "display_name": "Python 3",
   "language": "python",
   "name": "python3"
  },
  "language_info": {
   "codemirror_mode": {
    "name": "ipython",
    "version": 3
   },
   "file_extension": ".py",
   "mimetype": "text/x-python",
   "name": "python",
   "nbconvert_exporter": "python",
   "pygments_lexer": "ipython3",
   "version": "3.8.5"
  }
 },
 "nbformat": 4,
 "nbformat_minor": 5
}
